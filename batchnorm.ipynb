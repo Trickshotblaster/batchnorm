{
 "cells": [
  {
   "cell_type": "code",
   "execution_count": 3,
   "metadata": {},
   "outputs": [
    {
     "data": {
      "text/plain": [
       "True"
      ]
     },
     "execution_count": 3,
     "metadata": {},
     "output_type": "execute_result"
    }
   ],
   "source": [
    "import torch\n",
    "import torch.nn.functional as F\n",
    "import requests\n",
    "import matplotlib.pyplot as plt\n",
    "torch.cuda.is_available()"
   ]
  },
  {
   "cell_type": "code",
   "execution_count": 5,
   "metadata": {},
   "outputs": [
    {
     "data": {
      "text/plain": [
       "['emma', 'olivia', 'ava', 'isabella', 'sophia', 'charlotte', 'mia', 'amelia']"
      ]
     },
     "execution_count": 5,
     "metadata": {},
     "output_type": "execute_result"
    }
   ],
   "source": [
    "url = \"https://raw.githubusercontent.com/karpathy/makemore/master/names.txt\"\n",
    "res = requests.get(url)\n",
    "full_text = res.text\n",
    "words = full_text.splitlines()\n",
    "words[:8]"
   ]
  },
  {
   "cell_type": "code",
   "execution_count": 6,
   "metadata": {},
   "outputs": [
    {
     "data": {
      "text/plain": [
       "32033"
      ]
     },
     "execution_count": 6,
     "metadata": {},
     "output_type": "execute_result"
    }
   ],
   "source": [
    "len(words)"
   ]
  },
  {
   "cell_type": "code",
   "execution_count": 7,
   "metadata": {},
   "outputs": [
    {
     "name": "stdout",
     "output_type": "stream",
     "text": [
      "{1: 'a', 2: 'b', 3: 'c', 4: 'd', 5: 'e', 6: 'f', 7: 'g', 8: 'h', 9: 'i', 10: 'j', 11: 'k', 12: 'l', 13: 'm', 14: 'n', 15: 'o', 16: 'p', 17: 'q', 18: 'r', 19: 's', 20: 't', 21: 'u', 22: 'v', 23: 'w', 24: 'x', 25: 'y', 26: 'z', 0: '.'}\n",
      "27\n"
     ]
    }
   ],
   "source": [
    "chars = sorted(list(set(\"\".join(words))))\n",
    "stoi = {char:i+1 for i, char in enumerate(chars)}\n",
    "stoi[\".\"] = 0\n",
    "itos = {i:char for char, i in stoi.items()}\n",
    "vocab_size = len(itos)\n",
    "print(itos)\n",
    "print(vocab_size)"
   ]
  },
  {
   "cell_type": "code",
   "execution_count": 29,
   "metadata": {},
   "outputs": [
    {
     "name": "stdout",
     "output_type": "stream",
     "text": [
      "torch.Size([182551, 3]) torch.Size([182551])\n",
      "torch.Size([22783, 3]) torch.Size([22783])\n",
      "torch.Size([22812, 3]) torch.Size([22812])\n",
      "Context: ...\n",
      "Expected: f\n",
      "Context: ..f\n",
      "Expected: a\n",
      "Context: .fa\n",
      "Expected: o\n",
      "Context: fao\n",
      "Expected: l\n",
      "Context: aol\n",
      "Expected: a\n"
     ]
    }
   ],
   "source": [
    "block_size = 3\n",
    "\n",
    "def build_dataset(words):\n",
    "    xs, ys = [], []\n",
    "    \n",
    "    for word in words:\n",
    "        ctx = [0] * block_size\n",
    "        for char in word + \".\":\n",
    "            ix = stoi[char]\n",
    "            xs.append(ctx)\n",
    "            ys.append(ix)\n",
    "            ctx = ctx[1:] + [ix]\n",
    "            \n",
    "    xs = torch.tensor(xs)\n",
    "    ys = torch.tensor(ys)\n",
    "    print(xs.shape, ys.shape)\n",
    "    return xs, ys\n",
    "\n",
    "import random\n",
    "random.seed(42)\n",
    "random.shuffle(words)\n",
    "n1 = int(0.8 * len(words))\n",
    "n2 = int(0.9 * len(words))\n",
    "\n",
    "Xtr, Ytr = build_dataset(words[:n1])\n",
    "Xdev, Ydev = build_dataset(words[n1:n2])\n",
    "Xte, Yte = build_dataset(words[n2:])\n",
    "\n",
    "for i in range(5):\n",
    "    example_x, example_y = Xtr[i], Ytr[i]\n",
    "    output = \"\"\n",
    "    for j in range(len(example_x)):\n",
    "        output += itos[example_x[j].item()]\n",
    "    print(\"Context:\", output)\n",
    "    print(\"Expected:\", itos[example_y.item()])"
   ]
  },
  {
   "cell_type": "markdown",
   "metadata": {},
   "source": [
    "std must be 1/sqrt(fan_in)"
   ]
  },
  {
   "cell_type": "code",
   "execution_count": 167,
   "metadata": {},
   "outputs": [
    {
     "name": "stdout",
     "output_type": "stream",
     "text": [
      "12297\n"
     ]
    }
   ],
   "source": [
    "n_embd = 10\n",
    "n_hidden = 200\n",
    "\n",
    "C = torch.randn(vocab_size, n_embd)\n",
    "w1 = torch.randn(n_embd * block_size, n_hidden) * (5/3) / (n_embd * block_size)**0.5 \n",
    "#b1 = torch.randn(n_hidden) * 0.01\n",
    "w2 = torch.randn(n_hidden, vocab_size) / (n_hidden)**0.5\n",
    "b2 = torch.randn(vocab_size) * 0.01\n",
    "\n",
    "bngain = torch.ones(1, n_hidden)\n",
    "bnbias = torch.zeros(1, n_hidden)\n",
    "\n",
    "bnmean_running = torch.zeros(1, n_hidden)\n",
    "bnstd_running = torch.ones(1, n_hidden)\n",
    "\n",
    "parameters = [C, w1, w2, b2, bngain, bnbias]\n",
    "print(sum(p.nelement() for p in parameters))\n",
    "for p in parameters:\n",
    "    p.requires_grad = True"
   ]
  },
  {
   "cell_type": "code",
   "execution_count": 168,
   "metadata": {},
   "outputs": [
    {
     "name": "stdout",
     "output_type": "stream",
     "text": [
      "step: 0 | loss: 3.4375\n",
      "step: 10000 | loss: 2.3212\n",
      "step: 20000 | loss: 1.9294\n",
      "step: 30000 | loss: 2.3763\n",
      "step: 40000 | loss: 2.3576\n",
      "step: 50000 | loss: 1.9132\n",
      "step: 60000 | loss: 2.0034\n",
      "step: 70000 | loss: 2.4361\n",
      "step: 80000 | loss: 1.8689\n",
      "step: 90000 | loss: 2.0681\n",
      "step: 100000 | loss: 1.8523\n",
      "step: 110000 | loss: 1.8306\n",
      "step: 120000 | loss: 2.0074\n",
      "step: 130000 | loss: 2.1770\n",
      "step: 140000 | loss: 2.3940\n",
      "step: 150000 | loss: 2.4966\n",
      "step: 160000 | loss: 2.1896\n",
      "step: 170000 | loss: 2.1731\n",
      "step: 180000 | loss: 1.9424\n",
      "step: 190000 | loss: 2.2736\n"
     ]
    }
   ],
   "source": [
    "max_steps = 200000\n",
    "batch_size = 32\n",
    "lossi = []\n",
    "\n",
    "for step in range(max_steps):\n",
    "    ix = torch.randint(0, Xtr.shape[0], (batch_size,))\n",
    "    xb, yb = Xtr[ix], Ytr[ix]\n",
    "\n",
    "    emb = C[xb]\n",
    "    embcat = emb.view(emb.shape[0], -1)\n",
    "    # should be roughly gaussian\n",
    "    hpreact = embcat @ w1 #+ b1\n",
    "    # batchnorm layer\n",
    "    # ------------------------------------------------\n",
    "    bnmeani = hpreact.mean(0, keepdim=True)\n",
    "    bnstdi = hpreact.std(0, keepdim=True)\n",
    "    hpreact = bngain * (hpreact - bnmeani) / bnstdi + bnbias\n",
    "\n",
    "    with torch.no_grad():\n",
    "        bnmean_running = 0.999 * bnmean_running + 0.001 * bnmeani\n",
    "        bnstd_running = 0.999 * bnstd_running + 0.001 * bnstdi\n",
    "    # ------------------------------------------------\n",
    "    h = torch.tanh(hpreact)\n",
    "    logits = h @ w2 + b2\n",
    "    loss = F.cross_entropy(logits, yb)\n",
    "\n",
    "    for p in parameters:\n",
    "        p.grad = None\n",
    "\n",
    "    loss.backward()\n",
    "\n",
    "    lr = 0.1 if step < 100000 else 0.01\n",
    "    for p in parameters:\n",
    "        p.data -= p.grad * lr\n",
    "    \n",
    "    if step % 10000 == 0:\n",
    "        print(f\"step: {step} | loss: {loss.item():.4f}\")\n",
    "    lossi.append(loss.log10().item())\n",
    "    #break"
   ]
  },
  {
   "cell_type": "code",
   "execution_count": 169,
   "metadata": {},
   "outputs": [
    {
     "data": {
      "text/plain": [
       "(array([454., 220., 175., 146., 141., 111., 118.,  96.,  75.,  78.,  94.,\n",
       "         74., 102., 109.,  85.,  55., 114., 105.,  88.,  89., 130., 128.,\n",
       "        135., 113., 112., 162.,  93.,  99., 120., 122., 102., 122., 105.,\n",
       "         96.,  94., 104.,  97.,  91.,  91., 100.,  91.,  93.,  93., 109.,\n",
       "        121., 138., 164., 172., 206., 468.]),\n",
       " array([-9.99967873e-01, -9.59968572e-01, -9.19969270e-01, -8.79969969e-01,\n",
       "        -8.39970667e-01, -7.99971366e-01, -7.59972064e-01, -7.19972763e-01,\n",
       "        -6.79973462e-01, -6.39974160e-01, -5.99974859e-01, -5.59975557e-01,\n",
       "        -5.19976256e-01, -4.79976954e-01, -4.39977653e-01, -3.99978352e-01,\n",
       "        -3.59979050e-01, -3.19979749e-01, -2.79980447e-01, -2.39981146e-01,\n",
       "        -1.99981844e-01, -1.59982543e-01, -1.19983242e-01, -7.99839401e-02,\n",
       "        -3.99846387e-02,  1.46627426e-05,  4.00139642e-02,  8.00132656e-02,\n",
       "         1.20012567e-01,  1.60011868e-01,  2.00011170e-01,  2.40010471e-01,\n",
       "         2.80009773e-01,  3.20009074e-01,  3.60008376e-01,  4.00007677e-01,\n",
       "         4.40006979e-01,  4.80006280e-01,  5.20005581e-01,  5.60004883e-01,\n",
       "         6.00004184e-01,  6.40003486e-01,  6.80002787e-01,  7.20002089e-01,\n",
       "         7.60001390e-01,  8.00000691e-01,  8.39999993e-01,  8.79999294e-01,\n",
       "         9.19998596e-01,  9.59997897e-01,  9.99997199e-01]),\n",
       " <BarContainer object of 50 artists>)"
      ]
     },
     "execution_count": 169,
     "metadata": {},
     "output_type": "execute_result"
    },
    {
     "data": {
      "image/png": "[encoded data removed]",
      "text/plain": [
       "<Figure size 640x480 with 1 Axes>"
      ]
     },
     "metadata": {},
     "output_type": "display_data"
    }
   ],
   "source": [
    "plt.hist(h.view(-1).tolist(), 50)"
   ]
  },
  {
   "cell_type": "code",
   "execution_count": 170,
   "metadata": {},
   "outputs": [
    {
     "data": {
      "text/plain": [
       "<matplotlib.image.AxesImage at 0x7f857c128be0>"
      ]
     },
     "execution_count": 170,
     "metadata": {},
     "output_type": "execute_result"
    },
    {
     "data": {
      "image/png": "[encoded data removed]",
      "text/plain": [
       "<Figure size 640x480 with 1 Axes>"
      ]
     },
     "metadata": {},
     "output_type": "display_data"
    }
   ],
   "source": [
    "mask = h.abs() > 0.9\n",
    "plt.imshow(mask, cmap=\"gray\", interpolation='nearest')"
   ]
  },
  {
   "cell_type": "code",
   "execution_count": 171,
   "metadata": {},
   "outputs": [
    {
     "data": {
      "text/plain": [
       "tensor([-4.3155,  2.0501,  1.0225,  1.0608,  0.9629,  1.1260, -0.5641, -0.2474,\n",
       "         0.0592, -0.5528,  1.2710,  1.3970,  1.1001,  1.4818,  0.5654, -0.2833,\n",
       "        -0.3053, -2.1485,  0.6235,  1.0730,  0.9814, -1.7551, -0.6216, -1.2834,\n",
       "        -1.9204, -0.2881,  0.7385], grad_fn=<SelectBackward0>)"
      ]
     },
     "execution_count": 171,
     "metadata": {},
     "output_type": "execute_result"
    }
   ],
   "source": [
    "logits[0]"
   ]
  },
  {
   "cell_type": "code",
   "execution_count": 172,
   "metadata": {},
   "outputs": [
    {
     "data": {
      "text/plain": [
       "[<matplotlib.lines.Line2D at 0x7f857c2e2dd0>]"
      ]
     },
     "execution_count": 172,
     "metadata": {},
     "output_type": "execute_result"
    },
    {
     "data": {
      "image/png": "[encoded data removed]",
      "text/plain": [
       "<Figure size 640x480 with 1 Axes>"
      ]
     },
     "metadata": {},
     "output_type": "display_data"
    }
   ],
   "source": [
    "plt.plot(lossi)"
   ]
  },
  {
   "cell_type": "code",
   "execution_count": 173,
   "metadata": {},
   "outputs": [],
   "source": [
    "# calibrate batch norm statistics at the end of training\n",
    "with torch.no_grad():\n",
    "    emb = C[Xtr]\n",
    "    embcat = emb.view(emb.shape[0], -1)\n",
    "    hpreact = embcat @ w1 + b1\n",
    "    bnmean = hpreact.mean(0, keepdim=True)\n",
    "    bnstd = hpreact.std(0, keepdim=True)"
   ]
  },
  {
   "cell_type": "code",
   "execution_count": 179,
   "metadata": {},
   "outputs": [
    {
     "name": "stdout",
     "output_type": "stream",
     "text": [
      "train 2.0661025047302246\n",
      "val 2.123345375061035\n"
     ]
    }
   ],
   "source": [
    "@torch.no_grad()\n",
    "def split_loss(split):\n",
    "    x, y = {\n",
    "        'train': (Xtr, Ytr),\n",
    "        'val': (Xdev, Ydev),\n",
    "        'test': (Xte, Yte)\n",
    "    }[split]\n",
    "    emb = C[x]\n",
    "    embcat = emb.view(emb.shape[0], -1)\n",
    "    hpreact = embcat @ w1 + b1\n",
    "    hpreact = bngain * (hpreact - bnmean_running) / bnstd_running + bnbias\n",
    "    h = hpreact.tanh()\n",
    "    logits = h @ w2 + b2\n",
    "    loss = F.cross_entropy(logits, y)\n",
    "    print(split, loss.item())\n",
    "\n",
    "split_loss('train')\n",
    "split_loss('val')"
   ]
  },
  {
   "cell_type": "code",
   "execution_count": 166,
   "metadata": {},
   "outputs": [
    {
     "name": "stdout",
     "output_type": "stream",
     "text": [
      "lucilve.\n",
      "kyma.\n",
      "juliel.\n",
      "littorrsh.\n",
      "jadiyomi.\n",
      "amadrichia.\n",
      "handayomirodalyannader.\n",
      "tom.\n",
      "tonyehaa.\n",
      "ana.\n",
      "cortelynn.\n",
      "raatiiley.\n",
      "jargan.\n",
      "zulleriyan.\n",
      "cobe.\n",
      "yukiine.\n",
      "anrodia.\n",
      "keel.\n",
      "naiyah.\n",
      "joelynn.\n"
     ]
    }
   ],
   "source": [
    "for i in range(20):\n",
    "    name = \"\"\n",
    "    ctx = [0] * block_size\n",
    "    for x in range(30):\n",
    "        ins = torch.tensor(ctx)\n",
    "        emb = C[ins]\n",
    "        embcat = emb.view(-1)\n",
    "        hpreact = embcat @ w1 + b1\n",
    "        hpreact = bngain * (hpreact - bnmean) / bnstd + bnbias\n",
    "        h = hpreact.tanh()\n",
    "        logits = h @ w2 + b2\n",
    "        probs = F.softmax(logits, dim=-1)\n",
    "        selected = torch.multinomial(probs, num_samples=1).item()\n",
    "        ctx = ctx[1:] + [selected]\n",
    "        name += itos[selected]\n",
    "        if itos[selected] == \".\":\n",
    "            break\n",
    "    print(name)"
   ]
  }
 ],
 "metadata": {
  "kernelspec": {
   "display_name": "Python 3",
   "language": "python",
   "name": "python3"
  },
  "language_info": {
   "codemirror_mode": {
    "name": "ipython",
    "version": 3
   },
   "file_extension": ".py",
   "mimetype": "text/x-python",
   "name": "python",
   "nbconvert_exporter": "python",
   "pygments_lexer": "ipython3",
   "version": "3.10.12"
  }
 },
 "nbformat": 4,
 "nbformat_minor": 2
}
