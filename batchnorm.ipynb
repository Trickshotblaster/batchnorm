{
 "cells": [
  {
   "cell_type": "code",
   "execution_count": 3,
   "metadata": {},
   "outputs": [
    {
     "data": {
      "text/plain": [
       "True"
      ]
     },
     "execution_count": 3,
     "metadata": {},
     "output_type": "execute_result"
    }
   ],
   "source": [
    "import torch\n",
    "import torch.nn.functional as F\n",
    "import requests\n",
    "import matplotlib.pyplot as plt\n",
    "torch.cuda.is_available()"
   ]
  },
  {
   "cell_type": "code",
   "execution_count": 5,
   "metadata": {},
   "outputs": [
    {
     "data": {
      "text/plain": [
       "['emma', 'olivia', 'ava', 'isabella', 'sophia', 'charlotte', 'mia', 'amelia']"
      ]
     },
     "execution_count": 5,
     "metadata": {},
     "output_type": "execute_result"
    }
   ],
   "source": [
    "url = \"https://raw.githubusercontent.com/karpathy/makemore/master/names.txt\"\n",
    "res = requests.get(url)\n",
    "full_text = res.text\n",
    "words = full_text.splitlines()\n",
    "words[:8]"
   ]
  },
  {
   "cell_type": "code",
   "execution_count": 6,
   "metadata": {},
   "outputs": [
    {
     "data": {
      "text/plain": [
       "32033"
      ]
     },
     "execution_count": 6,
     "metadata": {},
     "output_type": "execute_result"
    }
   ],
   "source": [
    "len(words)"
   ]
  },
  {
   "cell_type": "code",
   "execution_count": 7,
   "metadata": {},
   "outputs": [
    {
     "name": "stdout",
     "output_type": "stream",
     "text": [
      "{1: 'a', 2: 'b', 3: 'c', 4: 'd', 5: 'e', 6: 'f', 7: 'g', 8: 'h', 9: 'i', 10: 'j', 11: 'k', 12: 'l', 13: 'm', 14: 'n', 15: 'o', 16: 'p', 17: 'q', 18: 'r', 19: 's', 20: 't', 21: 'u', 22: 'v', 23: 'w', 24: 'x', 25: 'y', 26: 'z', 0: '.'}\n",
      "27\n"
     ]
    }
   ],
   "source": [
    "chars = sorted(list(set(\"\".join(words))))\n",
    "stoi = {char:i+1 for i, char in enumerate(chars)}\n",
    "stoi[\".\"] = 0\n",
    "itos = {i:char for char, i in stoi.items()}\n",
    "vocab_size = len(itos)\n",
    "print(itos)\n",
    "print(vocab_size)"
   ]
  },
  {
   "cell_type": "code",
   "execution_count": 29,
   "metadata": {},
   "outputs": [
    {
     "name": "stdout",
     "output_type": "stream",
     "text": [
      "torch.Size([182551, 3]) torch.Size([182551])\n",
      "torch.Size([22783, 3]) torch.Size([22783])\n",
      "torch.Size([22812, 3]) torch.Size([22812])\n",
      "Context: ...\n",
      "Expected: f\n",
      "Context: ..f\n",
      "Expected: a\n",
      "Context: .fa\n",
      "Expected: o\n",
      "Context: fao\n",
      "Expected: l\n",
      "Context: aol\n",
      "Expected: a\n"
     ]
    }
   ],
   "source": [
    "block_size = 3\n",
    "\n",
    "def build_dataset(words):\n",
    "    xs, ys = [], []\n",
    "    \n",
    "    for word in words:\n",
    "        ctx = [0] * block_size\n",
    "        for char in word + \".\":\n",
    "            ix = stoi[char]\n",
    "            xs.append(ctx)\n",
    "            ys.append(ix)\n",
    "            ctx = ctx[1:] + [ix]\n",
    "            \n",
    "    xs = torch.tensor(xs)\n",
    "    ys = torch.tensor(ys)\n",
    "    print(xs.shape, ys.shape)\n",
    "    return xs, ys\n",
    "\n",
    "import random\n",
    "random.seed(42)\n",
    "random.shuffle(words)\n",
    "n1 = int(0.8 * len(words))\n",
    "n2 = int(0.9 * len(words))\n",
    "\n",
    "Xtr, Ytr = build_dataset(words[:n1])\n",
    "Xdev, Ydev = build_dataset(words[n1:n2])\n",
    "Xte, Yte = build_dataset(words[n2:])\n",
    "\n",
    "for i in range(5):\n",
    "    example_x, example_y = Xtr[i], Ytr[i]\n",
    "    output = \"\"\n",
    "    for j in range(len(example_x)):\n",
    "        output += itos[example_x[j].item()]\n",
    "    print(\"Context:\", output)\n",
    "    print(\"Expected:\", itos[example_y.item()])"
   ]
  },
  {
   "cell_type": "markdown",
   "metadata": {},
   "source": [
    "std must be 1/sqrt(fan_in)"
   ]
  },
  {
   "cell_type": "code",
   "execution_count": 156,
   "metadata": {},
   "outputs": [
    {
     "name": "stdout",
     "output_type": "stream",
     "text": [
      "12297\n"
     ]
    }
   ],
   "source": [
    "n_embd = 10\n",
    "n_hidden = 200\n",
    "\n",
    "C = torch.randn(vocab_size, n_embd)\n",
    "w1 = torch.randn(n_embd * block_size, n_hidden) * (5/3) / (n_embd * block_size)**0.5 \n",
    "b1 = torch.randn(n_hidden) * 0.01\n",
    "w2 = torch.randn(n_hidden, vocab_size) / (n_hidden)**0.5\n",
    "b2 = torch.randn(vocab_size) * 0.01\n",
    "\n",
    "bngain = torch.ones(1, n_hidden)\n",
    "bnbias = torch.zeros(1, n_hidden)\n",
    "\n",
    "parameters = [C, w1, b1, w2, b2, bngain, bnbias]\n",
    "print(sum(p.nelement() for p in parameters))\n",
    "for p in parameters:\n",
    "    p.requires_grad = True"
   ]
  },
  {
   "cell_type": "code",
   "execution_count": 157,
   "metadata": {},
   "outputs": [
    {
     "name": "stdout",
     "output_type": "stream",
     "text": [
      "step: 0 | loss: 3.6830\n",
      "step: 10000 | loss: 1.9463\n",
      "step: 20000 | loss: 2.5254\n",
      "step: 30000 | loss: 2.3529\n",
      "step: 40000 | loss: 2.2688\n",
      "step: 50000 | loss: 2.2271\n",
      "step: 60000 | loss: 2.3022\n",
      "step: 70000 | loss: 1.9987\n",
      "step: 80000 | loss: 2.6026\n",
      "step: 90000 | loss: 2.0954\n",
      "step: 100000 | loss: 2.0803\n",
      "step: 110000 | loss: 1.8976\n",
      "step: 120000 | loss: 2.0539\n",
      "step: 130000 | loss: 2.4506\n",
      "step: 140000 | loss: 2.2436\n",
      "step: 150000 | loss: 1.8801\n",
      "step: 160000 | loss: 2.0495\n",
      "step: 170000 | loss: 1.7397\n",
      "step: 180000 | loss: 2.0927\n",
      "step: 190000 | loss: 1.8841\n"
     ]
    }
   ],
   "source": [
    "max_steps = 200000\n",
    "batch_size = 32\n",
    "lossi = []\n",
    "\n",
    "for step in range(max_steps):\n",
    "    ix = torch.randint(0, Xtr.shape[0], (batch_size,))\n",
    "    xb, yb = Xtr[ix], Ytr[ix]\n",
    "\n",
    "    emb = C[xb]\n",
    "    embcat = emb.view(emb.shape[0], -1)\n",
    "    # should be roughly gaussian\n",
    "    hpreact = embcat @ w1 + b1\n",
    "    bnmeani = hpreact.mean(0, keepdim=True)\n",
    "    bnstdi = hpreact.std(0, keepdim=True)\n",
    "    hpreact = bngain * (hpreact - hpreact.mean(0, keepdim=True)) / hpreact.std(0, keepdim=True) + bnbias\n",
    "    h = torch.tanh(hpreact)\n",
    "    logits = h @ w2 + b2\n",
    "    loss = F.cross_entropy(logits, yb)\n",
    "\n",
    "    for p in parameters:\n",
    "        p.grad = None\n",
    "\n",
    "    loss.backward()\n",
    "\n",
    "    lr = 0.1 if step < 100000 else 0.01\n",
    "    for p in parameters:\n",
    "        p.data -= p.grad * lr\n",
    "    \n",
    "    if step % 10000 == 0:\n",
    "        print(f\"step: {step} | loss: {loss.item():.4f}\")\n",
    "    lossi.append(loss.log10().item())\n",
    "    #break"
   ]
  },
  {
   "cell_type": "code",
   "execution_count": 158,
   "metadata": {},
   "outputs": [
    {
     "data": {
      "text/plain": [
       "(array([471., 223., 159., 147., 158., 122., 127., 101., 105., 119.,  83.,\n",
       "        108.,  92., 106.,  91., 108.,  77.,  89., 106.,  97., 111.,  79.,\n",
       "        135., 108., 117., 134., 114., 113.,  86., 113., 108.,  87.,  82.,\n",
       "         89.,  77., 100., 112.,  93., 111., 101.,  94.,  82., 111., 118.,\n",
       "        129., 117., 153., 162., 229., 446.]),\n",
       " array([-9.99971926e-01, -9.59972538e-01, -9.19973149e-01, -8.79973761e-01,\n",
       "        -8.39974372e-01, -7.99974984e-01, -7.59975595e-01, -7.19976207e-01,\n",
       "        -6.79976819e-01, -6.39977430e-01, -5.99978042e-01, -5.59978653e-01,\n",
       "        -5.19979265e-01, -4.79979876e-01, -4.39980488e-01, -3.99981099e-01,\n",
       "        -3.59981711e-01, -3.19982322e-01, -2.79982934e-01, -2.39983546e-01,\n",
       "        -1.99984157e-01, -1.59984769e-01, -1.19985380e-01, -7.99859917e-02,\n",
       "        -3.99866033e-02,  1.27851963e-05,  4.00121737e-02,  8.00115621e-02,\n",
       "         1.20010951e-01,  1.60010339e-01,  2.00009727e-01,  2.40009116e-01,\n",
       "         2.80008504e-01,  3.20007893e-01,  3.60007281e-01,  4.00006670e-01,\n",
       "         4.40006058e-01,  4.80005447e-01,  5.20004835e-01,  5.60004224e-01,\n",
       "         6.00003612e-01,  6.40003000e-01,  6.80002389e-01,  7.20001777e-01,\n",
       "         7.60001166e-01,  8.00000554e-01,  8.39999943e-01,  8.79999331e-01,\n",
       "         9.19998720e-01,  9.59998108e-01,  9.99997497e-01]),\n",
       " <BarContainer object of 50 artists>)"
      ]
     },
     "execution_count": 158,
     "metadata": {},
     "output_type": "execute_result"
    },
    {
     "data": {
      "image/png": "[encoded data removed]",
      "text/plain": [
       "<Figure size 640x480 with 1 Axes>"
      ]
     },
     "metadata": {},
     "output_type": "display_data"
    }
   ],
   "source": [
    "plt.hist(h.view(-1).tolist(), 50)"
   ]
  },
  {
   "cell_type": "code",
   "execution_count": 159,
   "metadata": {},
   "outputs": [
    {
     "data": {
      "text/plain": [
       "<matplotlib.image.AxesImage at 0x7f85a219be20>"
      ]
     },
     "execution_count": 159,
     "metadata": {},
     "output_type": "execute_result"
    },
    {
     "data": {
      "image/png": "[encoded data removed]",
      "text/plain": [
       "<Figure size 640x480 with 1 Axes>"
      ]
     },
     "metadata": {},
     "output_type": "display_data"
    }
   ],
   "source": [
    "mask = h.abs() > 0.9\n",
    "plt.imshow(mask, cmap=\"gray\", interpolation='nearest')"
   ]
  },
  {
   "cell_type": "code",
   "execution_count": 160,
   "metadata": {},
   "outputs": [
    {
     "data": {
      "text/plain": [
       "tensor([ 4.3875,  0.2284,  0.3044, -0.9904,  0.6544,  1.1593, -1.0796, -0.3983,\n",
       "         2.0026,  1.8443, -1.6010, -1.9583,  2.1274,  0.3121,  1.8384, -0.7906,\n",
       "        -2.2183, -3.1180,  1.5092,  1.5790,  0.6443, -2.8386,  0.9133, -2.3847,\n",
       "        -0.9019,  2.2781, -0.7229], grad_fn=<SelectBackward0>)"
      ]
     },
     "execution_count": 160,
     "metadata": {},
     "output_type": "execute_result"
    }
   ],
   "source": [
    "logits[0]"
   ]
  },
  {
   "cell_type": "code",
   "execution_count": 161,
   "metadata": {},
   "outputs": [
    {
     "data": {
      "text/plain": [
       "[<matplotlib.lines.Line2D at 0x7f857c2967d0>]"
      ]
     },
     "execution_count": 161,
     "metadata": {},
     "output_type": "execute_result"
    },
    {
     "data": {
      "image/png": "[encoded data removed]",
      "text/plain": [
       "<Figure size 640x480 with 1 Axes>"
      ]
     },
     "metadata": {},
     "output_type": "display_data"
    }
   ],
   "source": [
    "plt.plot(lossi)"
   ]
  },
  {
   "cell_type": "code",
   "execution_count": 164,
   "metadata": {},
   "outputs": [],
   "source": [
    "# calibrate batch norm statistics at the end of training\n",
    "with torch.no_grad():\n",
    "    emb = C[Xtr]\n",
    "    embcat = emb.view(emb.shape[0], -1)\n",
    "    hpreact = embcat @ w1 + b1\n",
    "    bnmean = hpreact.mean(0, keepdim=True)\n",
    "    bnstd = hpreact.std(0, keepdim=True)"
   ]
  },
  {
   "cell_type": "code",
   "execution_count": 165,
   "metadata": {},
   "outputs": [
    {
     "name": "stdout",
     "output_type": "stream",
     "text": [
      "train 2.0694589614868164\n",
      "val 2.1245737075805664\n"
     ]
    }
   ],
   "source": [
    "@torch.no_grad()\n",
    "def split_loss(split):\n",
    "    x, y = {\n",
    "        'train': (Xtr, Ytr),\n",
    "        'val': (Xdev, Ydev),\n",
    "        'test': (Xte, Yte)\n",
    "    }[split]\n",
    "    emb = C[x]\n",
    "    embcat = emb.view(emb.shape[0], -1)\n",
    "    hpreact = embcat @ w1 + b1\n",
    "    hpreact = bngain * (hpreact - bnmean) / bnstd + bnbias\n",
    "    h = hpreact.tanh()\n",
    "    logits = h @ w2 + b2\n",
    "    loss = F.cross_entropy(logits, y)\n",
    "    print(split, loss.item())\n",
    "\n",
    "split_loss('train')\n",
    "split_loss('val')"
   ]
  },
  {
   "cell_type": "code",
   "execution_count": 166,
   "metadata": {},
   "outputs": [
    {
     "name": "stdout",
     "output_type": "stream",
     "text": [
      "lucilve.\n",
      "kyma.\n",
      "juliel.\n",
      "littorrsh.\n",
      "jadiyomi.\n",
      "amadrichia.\n",
      "handayomirodalyannader.\n",
      "tom.\n",
      "tonyehaa.\n",
      "ana.\n",
      "cortelynn.\n",
      "raatiiley.\n",
      "jargan.\n",
      "zulleriyan.\n",
      "cobe.\n",
      "yukiine.\n",
      "anrodia.\n",
      "keel.\n",
      "naiyah.\n",
      "joelynn.\n"
     ]
    }
   ],
   "source": [
    "for i in range(20):\n",
    "    name = \"\"\n",
    "    ctx = [0] * block_size\n",
    "    for x in range(30):\n",
    "        ins = torch.tensor(ctx)\n",
    "        emb = C[ins]\n",
    "        embcat = emb.view(-1)\n",
    "        hpreact = embcat @ w1 + b1\n",
    "        hpreact = bngain * (hpreact - bnmean) / bnstd + bnbias\n",
    "        h = hpreact.tanh()\n",
    "        logits = h @ w2 + b2\n",
    "        probs = F.softmax(logits, dim=-1)\n",
    "        selected = torch.multinomial(probs, num_samples=1).item()\n",
    "        ctx = ctx[1:] + [selected]\n",
    "        name += itos[selected]\n",
    "        if itos[selected] == \".\":\n",
    "            break\n",
    "    print(name)"
   ]
  }
 ],
 "metadata": {
  "kernelspec": {
   "display_name": "Python 3",
   "language": "python",
   "name": "python3"
  },
  "language_info": {
   "codemirror_mode": {
    "name": "ipython",
    "version": 3
   },
   "file_extension": ".py",
   "mimetype": "text/x-python",
   "name": "python",
   "nbconvert_exporter": "python",
   "pygments_lexer": "ipython3",
   "version": "3.10.12"
  }
 },
 "nbformat": 4,
 "nbformat_minor": 2
}
